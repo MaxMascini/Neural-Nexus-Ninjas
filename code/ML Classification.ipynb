{
 "cells": [
  {
   "cell_type": "markdown",
   "metadata": {},
   "source": [
    "## ML Classification\n",
    "Uses previously obtained number of GM, WM, & CSF pixels to train a logistic-regression classifier to find relationship between GM, WM, CSF and age"
   ]
  },
  {
   "cell_type": "markdown",
   "metadata": {},
   "source": [
    "### Import Libraries & Pathing"
   ]
  },
  {
   "cell_type": "code",
   "execution_count": 36,
   "metadata": {},
   "outputs": [],
   "source": [
    "from pathlib import Path\n",
    "import os\n",
    "import os.path as op\n",
    "import glob\n",
    "import matplotlib.pyplot as plt\n",
    "import seaborn as sns\n",
    "import numpy as np\n",
    "import pandas as pd\n",
    "# Scikit-learn\n",
    "from sklearn.utils import compute_class_weight\n",
    "from sklearn.preprocessing import StandardScaler\n",
    "from sklearn.pipeline import Pipeline, make_pipeline\n",
    "from sklearn.model_selection import train_test_split, StratifiedKFold, cross_validate, GridSearchCV, RandomizedSearchCV\n",
    "from sklearn.metrics import PrecisionRecallDisplay, ConfusionMatrixDisplay, classification_report, make_scorer, balanced_accuracy_score, fbeta_score, precision_recall_curve, precision_score, recall_score, accuracy_score, roc_auc_score, f1_score, matthews_corrcoef, confusion_matrix\n",
    "from sklearn.linear_model import LogisticRegression\n",
    "from sklearn.preprocessing import LabelEncoder\n",
    "nl = '\\n' # For f-string formatting"
   ]
  },
  {
   "cell_type": "code",
   "execution_count": 37,
   "metadata": {},
   "outputs": [],
   "source": [
    "## Pathing\n",
    "path = '../'\n",
    "\n",
    "images_path = Path(path, 'data', 'images')\n",
    "masks_path = Path(path, 'data', 'masks')\n",
    "segs_path = Path(path, 'data', 'segs_refs')\n",
    "metadata_path = Path(path, 'data', 'meta')"
   ]
  },
  {
   "cell_type": "markdown",
   "metadata": {},
   "source": [
    "## Preparing Data for Classification"
   ]
  },
  {
   "cell_type": "code",
   "execution_count": 38,
   "metadata": {},
   "outputs": [
    {
     "data": {
      "text/html": [
       "<div>\n",
       "<style scoped>\n",
       "    .dataframe tbody tr th:only-of-type {\n",
       "        vertical-align: middle;\n",
       "    }\n",
       "\n",
       "    .dataframe tbody tr th {\n",
       "        vertical-align: top;\n",
       "    }\n",
       "\n",
       "    .dataframe thead th {\n",
       "        text-align: right;\n",
       "    }\n",
       "</style>\n",
       "<table border=\"1\" class=\"dataframe\">\n",
       "  <thead>\n",
       "    <tr style=\"text-align: right;\">\n",
       "      <th></th>\n",
       "      <th>subject</th>\n",
       "      <th>age</th>\n",
       "      <th>gender</th>\n",
       "      <th>CSF</th>\n",
       "      <th>GM</th>\n",
       "      <th>WM</th>\n",
       "    </tr>\n",
       "  </thead>\n",
       "  <tbody>\n",
       "    <tr>\n",
       "      <th>0</th>\n",
       "      <td>CC110033</td>\n",
       "      <td>24</td>\n",
       "      <td>1</td>\n",
       "      <td>32255</td>\n",
       "      <td>88877</td>\n",
       "      <td>53097</td>\n",
       "    </tr>\n",
       "    <tr>\n",
       "      <th>1</th>\n",
       "      <td>CC110037</td>\n",
       "      <td>18</td>\n",
       "      <td>1</td>\n",
       "      <td>23522</td>\n",
       "      <td>93552</td>\n",
       "      <td>53059</td>\n",
       "    </tr>\n",
       "    <tr>\n",
       "      <th>2</th>\n",
       "      <td>CC110045</td>\n",
       "      <td>24</td>\n",
       "      <td>2</td>\n",
       "      <td>22655</td>\n",
       "      <td>97481</td>\n",
       "      <td>49497</td>\n",
       "    </tr>\n",
       "    <tr>\n",
       "      <th>3</th>\n",
       "      <td>CC110056</td>\n",
       "      <td>22</td>\n",
       "      <td>2</td>\n",
       "      <td>20673</td>\n",
       "      <td>86147</td>\n",
       "      <td>49316</td>\n",
       "    </tr>\n",
       "    <tr>\n",
       "      <th>4</th>\n",
       "      <td>CC110062</td>\n",
       "      <td>20</td>\n",
       "      <td>1</td>\n",
       "      <td>20466</td>\n",
       "      <td>110771</td>\n",
       "      <td>60077</td>\n",
       "    </tr>\n",
       "  </tbody>\n",
       "</table>\n",
       "</div>"
      ],
      "text/plain": [
       "    subject  age  gender    CSF      GM     WM\n",
       "0  CC110033   24       1  32255   88877  53097\n",
       "1  CC110037   18       1  23522   93552  53059\n",
       "2  CC110045   24       2  22655   97481  49497\n",
       "3  CC110056   22       2  20673   86147  49316\n",
       "4  CC110062   20       1  20466  110771  60077"
      ]
     },
     "execution_count": 38,
     "metadata": {},
     "output_type": "execute_result"
    }
   ],
   "source": [
    "## Reading in data from CSV file\n",
    "    # Make sure to run Get \"brain data.ipynb\" first to generate the CSV file\n",
    "data_table = pd.read_csv(Path(path, 'data', 'brain_data.csv'))\n",
    "data_table.head()"
   ]
  },
  {
   "cell_type": "code",
   "execution_count": 39,
   "metadata": {},
   "outputs": [
    {
     "name": "stdout",
     "output_type": "stream",
     "text": [
      "X:[[88877 53097 32255]\n",
      " [93552 53059 23522]\n",
      " [97481 49497 22655]]\n",
      "Y:[[24  1]\n",
      " [18  1]\n",
      " [24  2]]\n",
      "Shapes are: \n",
      "X: (652, 3) Y: (652, 2)\n"
     ]
    }
   ],
   "source": [
    "# Extracting X - a 2D matrix of features (Gray matter, white matter, & CSF pixels)\n",
    "X = data_table[['GM', 'WM', 'CSF']].values\n",
    "\n",
    "# Extracting Y - a 1D array of labels (age)\n",
    "y = data_table[['age', 'gender']].values\n",
    "\n",
    "# Confirming shape of X and Y match\n",
    "print(f\"X:{X[:3]}{nl}Y:{y[:3]}\")\n",
    "print(f\"Shapes are: {nl}X: {X.shape} Y: {y.shape}\")"
   ]
  },
  {
   "cell_type": "code",
   "execution_count": 40,
   "metadata": {},
   "outputs": [
    {
     "data": {
      "image/png": "[encoded data removed]",
      "text/plain": [
       "<Figure size 640x480 with 1 Axes>"
      ]
     },
     "metadata": {},
     "output_type": "display_data"
    }
   ],
   "source": [
    "# Looking at age distribution to find the best way to binarize the age variable\n",
    "plt.hist(y[:,0], bins=8)\n",
    "plt.xlabel('Age')\n",
    "plt.ylabel('Frequency')\n",
    "plt.title('Distribution of Age')\n",
    "plt.show()"
   ]
  },
  {
   "cell_type": "code",
   "execution_count": 41,
   "metadata": {},
   "outputs": [
    {
     "name": "stdout",
     "output_type": "stream",
     "text": [
      "Genders in y_encoded and y match: True\n"
     ]
    }
   ],
   "source": [
    "# Age Binning \n",
    "    # 0 = 15-24, 1 = 25-34, 2 = 35-44, 3 = 45-54, 4 = 55-64, 5 = 65-74, 6 = 75-84, 7 = 85+\n",
    "bins = np.array([15, 25, 35, 45, 55, 65, 75, 85])\n",
    "\n",
    "# Bin the age along the first axis of y\n",
    "y_binned = np.digitize(y[:,0], bins)\n",
    "\n",
    "# Use the LabelEncoder to fit and transform the binned ages\n",
    "le = LabelEncoder()\n",
    "y_encoded = le.fit_transform(y_binned)\n",
    "\n",
    "# Recombining the binned age array with participant genders\n",
    "y_encoded = np.hstack((y_encoded.reshape(-1,1), y[:,1].reshape(-1,1)))\n",
    "\n",
    "# Check to make sure y_encoded matches y\n",
    "equal = np.array_equal(y[:, 1], y_encoded[:, 1])\n",
    "\n",
    "print(f'Genders in y_encoded and y match: {equal}')"
   ]
  },
  {
   "cell_type": "markdown",
   "metadata": {},
   "source": [
    "## Machine Learning Classification\n",
    "Uses a logistic regression classifier to find relationship between age and GM, WM, & CSF"
   ]
  },
  {
   "cell_type": "code",
   "execution_count": 42,
   "metadata": {},
   "outputs": [
    {
     "name": "stdout",
     "output_type": "stream",
     "text": [
      "Shapes of Train and Test splits: \n",
      "X_train: (521, 3) X_test: (131, 3) y_train: (521, 2) y_test: (131, 2)\n"
     ]
    }
   ],
   "source": [
    "## Make Train and Test Splits\n",
    "X_train, X_test, y_train, y_test = train_test_split(X, \n",
    "                                                    y_encoded,\n",
    "                                                    stratify=y_encoded,\n",
    "                                                    test_size=0.2, \n",
    "                                                    random_state=42,\n",
    "                                                    shuffle=True\n",
    "                                                    )\n",
    "print(f\"Shapes of Train and Test splits: {nl}X_train: {X_train.shape} X_test: {X_test.shape} y_train: {y_train.shape} y_test: {y_test.shape}\")"
   ]
  },
  {
   "cell_type": "code",
   "execution_count": 43,
   "metadata": {},
   "outputs": [
    {
     "data": {
      "image/png": "[encoded data removed]",
      "text/plain": [
       "<Figure size 1000x500 with 2 Axes>"
      ]
     },
     "metadata": {},
     "output_type": "display_data"
    }
   ],
   "source": [
    "## Visualizing if stratifying for ages & genders was successful\n",
    "fig, axs = plt.subplots(1, 2, figsize=(10, 5))\n",
    "\n",
    "# Plot ages on the first subplot\n",
    "axs[0].hist(y_train[:,0], bins=8)\n",
    "axs[0].set_title('Distribution of ages')\n",
    "\n",
    "# Plot genders on the second subplot\n",
    "axs[1].hist(y_train[:,1], bins=2)\n",
    "plt.xticks([1, 2], ['Male', 'Female'])\n",
    "axs[1].set_title('Distribution of genders')\n",
    "\n",
    "plt.tight_layout()\n",
    "plt.show()"
   ]
  },
  {
   "cell_type": "code",
   "execution_count": 44,
   "metadata": {},
   "outputs": [
    {
     "name": "stdout",
     "output_type": "stream",
     "text": [
      "New shapes of y_train and y_test: \n",
      "y_train: (521,) y_test: (131,)\n"
     ]
    }
   ],
   "source": [
    "## Removing gender axis after stratification \n",
    "    # We don't want the classifier to train using gender as a feature\n",
    "y_train = y_train[:,0]\n",
    "y_test = y_test[:,0]\n",
    "print(f'New shapes of y_train and y_test: {nl}y_train: {y_train.shape} y_test: {y_test.shape}')"
   ]
  },
  {
   "cell_type": "code",
   "execution_count": 45,
   "metadata": {},
   "outputs": [],
   "source": [
    "# scoring = {'Prec': make_scorer(precision_score, zero_division=0),\n",
    "#            'Bal_Acc': make_scorer(balanced_accuracy_score),\n",
    "#            'Acc': make_scorer(accuracy_score),\n",
    "#            'Recall': make_scorer(recall_score),\n",
    "#            'ROC': make_scorer(roc_auc_score),\n",
    "#            'Matthews_Coef': make_scorer(matthews_corrcoef),\n",
    "#            'Fbeta_0.5': make_scorer(fbeta_score, beta = 0.5),\n",
    "#            'Fbeta_1.5': make_scorer(fbeta_score, beta = 1.5),\n",
    "#            'F1_score': make_scorer(f1_score, zero_division=0)\n",
    "#           }"
   ]
  },
  {
   "cell_type": "code",
   "execution_count": 46,
   "metadata": {},
   "outputs": [
    {
     "name": "stdout",
     "output_type": "stream",
     "text": [
      "Training Classifier\n",
      "Predicting...\n",
      "Scoring...\n",
      "              precision    recall  f1-score   support\n",
      "\n",
      "           0       0.00      0.00      0.00         6\n",
      "           1       0.58      0.83      0.68        18\n",
      "           2       0.46      0.57      0.51        21\n",
      "           3       0.44      0.33      0.38        21\n",
      "           4       0.54      0.35      0.42        20\n",
      "           5       0.46      0.60      0.52        20\n",
      "           6       0.70      0.73      0.71        22\n",
      "           7       0.00      0.00      0.00         3\n",
      "\n",
      "    accuracy                           0.53       131\n",
      "   macro avg       0.40      0.43      0.40       131\n",
      "weighted avg       0.49      0.53      0.50       131\n",
      "\n"
     ]
    },
    {
     "name": "stderr",
     "output_type": "stream",
     "text": [
      "c:\\Users\\masci\\.conda\\envs\\neuro\\lib\\site-packages\\sklearn\\metrics\\_classification.py:1471: UndefinedMetricWarning: Precision and F-score are ill-defined and being set to 0.0 in labels with no predicted samples. Use `zero_division` parameter to control this behavior.\n",
      "  _warn_prf(average, modifier, msg_start, len(result))\n",
      "c:\\Users\\masci\\.conda\\envs\\neuro\\lib\\site-packages\\sklearn\\metrics\\_classification.py:1471: UndefinedMetricWarning: Precision and F-score are ill-defined and being set to 0.0 in labels with no predicted samples. Use `zero_division` parameter to control this behavior.\n",
      "  _warn_prf(average, modifier, msg_start, len(result))\n",
      "c:\\Users\\masci\\.conda\\envs\\neuro\\lib\\site-packages\\sklearn\\metrics\\_classification.py:1471: UndefinedMetricWarning: Precision and F-score are ill-defined and being set to 0.0 in labels with no predicted samples. Use `zero_division` parameter to control this behavior.\n",
      "  _warn_prf(average, modifier, msg_start, len(result))\n"
     ]
    }
   ],
   "source": [
    "# Making scaler, classifier, and cross-validation objects\n",
    "scaler = StandardScaler()\n",
    "log_reg = LogisticRegression(max_iter=10000, tol=0.1, multi_class='auto') # Hyperparameters to be tuned\n",
    "cv = StratifiedKFold(n_splits=10, shuffle=True, random_state=42)\n",
    "\n",
    "# Making a pipeline\n",
    "clf = Pipeline([('Scaler', scaler),\n",
    "                ('logistic', log_reg)                                 \n",
    "                ])\n",
    "\n",
    "# Hyperparameter tuning\n",
    "cv_cv = cross_validate(clf, X_train, y_train, \n",
    "                        cv=cv,\n",
    " #                       scoring=scoring,\n",
    "                        return_train_score=True, # Determines if Training scores are included in .cv_results_\n",
    "                        n_jobs=-1, # -1 uses all processors\n",
    "                        )\n",
    "\n",
    "print('Training Classifier')\n",
    "clf = clf.fit(X_train, y_train)\n",
    "\n",
    "print('Predicting...')\n",
    "y_pred = clf.predict(X_test)\n",
    "\n",
    "print('Scoring...')        \n",
    "print(classification_report(y_test, y_pred))\n"
   ]
  },
  {
   "cell_type": "markdown",
   "metadata": {},
   "source": [
    "## Visualizing Results"
   ]
  },
  {
   "cell_type": "code",
   "execution_count": 48,
   "metadata": {},
   "outputs": [
    {
     "data": {
      "image/png": "[encoded data removed]",
      "text/plain": [
       "<Figure size 640x480 with 2 Axes>"
      ]
     },
     "metadata": {},
     "output_type": "display_data"
    }
   ],
   "source": [
    "# Confusion Matrix Generation and Visualization\n",
    "cm = confusion_matrix(y_test, y_pred, labels=clf.classes_)\n",
    "cmd = ConfusionMatrixDisplay(confusion_matrix=cm, display_labels=clf.classes_)\n",
    "cmd.plot()\n",
    "plt.show()"
   ]
  },
  {
   "cell_type": "code",
   "execution_count": null,
   "metadata": {},
   "outputs": [],
   "source": []
  }
 ],
 "metadata": {
  "kernelspec": {
   "display_name": "psychopy",
   "language": "python",
   "name": "python3"
  },
  "language_info": {
   "codemirror_mode": {
    "name": "ipython",
    "version": 3
   },
   "file_extension": ".py",
   "mimetype": "text/x-python",
   "name": "python",
   "nbconvert_exporter": "python",
   "pygments_lexer": "ipython3",
   "version": "3.8.18"
  }
 },
 "nbformat": 4,
 "nbformat_minor": 2
}
