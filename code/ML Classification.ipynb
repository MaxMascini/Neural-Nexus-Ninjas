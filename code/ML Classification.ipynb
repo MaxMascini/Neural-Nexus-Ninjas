{
 "cells": [
  {
   "cell_type": "markdown",
   "metadata": {},
   "source": [
    "## ML Classification\n",
    "Uses previously obtained number of GM, WM, & CSF pixels to train a logistic-regression classifier to find relationship between GM, WM, CSF and age"
   ]
  },
  {
   "cell_type": "code",
   "execution_count": 23,
   "metadata": {},
   "outputs": [],
   "source": [
    "from pathlib import Path\n",
    "import os\n",
    "import os.path as op\n",
    "import glob\n",
    "import matplotlib.pyplot as plt\n",
    "import seaborn as sns\n",
    "import numpy as np\n",
    "import pandas as pd\n",
    "# Scikit-learn\n",
    "from sklearn.utils import compute_class_weight\n",
    "from sklearn.preprocessing import StandardScaler\n",
    "from sklearn.pipeline import Pipeline, make_pipeline\n",
    "from sklearn.model_selection import train_test_split, StratifiedKFold, cross_validate, GridSearchCV, RandomizedSearchCV\n",
    "from sklearn.metrics import PrecisionRecallDisplay, ConfusionMatrixDisplay, classification_report, make_scorer, balanced_accuracy_score, fbeta_score, precision_recall_curve, precision_score, recall_score, accuracy_score, roc_auc_score, f1_score, matthews_corrcoef, confusion_matrix\n",
    "from sklearn.linear_model import LogisticRegression\n",
    "from sklearn.preprocessing import LabelEncoder\n",
    "nl = '\\n'"
   ]
  },
  {
   "cell_type": "code",
   "execution_count": 24,
   "metadata": {},
   "outputs": [],
   "source": [
    "## Pathing\n",
    "path = '../'\n",
    "\n",
    "images_path = Path(path, 'data', 'images')\n",
    "masks_path = Path(path, 'data', 'masks')\n",
    "segs_path = Path(path, 'data', 'segs_refs')\n",
    "metadata_path = Path(path, 'data', 'meta')"
   ]
  },
  {
   "cell_type": "markdown",
   "metadata": {},
   "source": [
    "## Preparing Data for Classification"
   ]
  },
  {
   "cell_type": "code",
   "execution_count": 25,
   "metadata": {},
   "outputs": [
    {
     "data": {
      "text/html": [
       "<div>\n",
       "<style scoped>\n",
       "    .dataframe tbody tr th:only-of-type {\n",
       "        vertical-align: middle;\n",
       "    }\n",
       "\n",
       "    .dataframe tbody tr th {\n",
       "        vertical-align: top;\n",
       "    }\n",
       "\n",
       "    .dataframe thead th {\n",
       "        text-align: right;\n",
       "    }\n",
       "</style>\n",
       "<table border=\"1\" class=\"dataframe\">\n",
       "  <thead>\n",
       "    <tr style=\"text-align: right;\">\n",
       "      <th></th>\n",
       "      <th>subject</th>\n",
       "      <th>age</th>\n",
       "      <th>gender</th>\n",
       "      <th>CSF</th>\n",
       "      <th>GM</th>\n",
       "      <th>WM</th>\n",
       "    </tr>\n",
       "  </thead>\n",
       "  <tbody>\n",
       "    <tr>\n",
       "      <th>0</th>\n",
       "      <td>CC110033</td>\n",
       "      <td>24</td>\n",
       "      <td>MALE</td>\n",
       "      <td>32255</td>\n",
       "      <td>88877</td>\n",
       "      <td>53097</td>\n",
       "    </tr>\n",
       "    <tr>\n",
       "      <th>1</th>\n",
       "      <td>CC110037</td>\n",
       "      <td>18</td>\n",
       "      <td>MALE</td>\n",
       "      <td>23522</td>\n",
       "      <td>93552</td>\n",
       "      <td>53059</td>\n",
       "    </tr>\n",
       "    <tr>\n",
       "      <th>2</th>\n",
       "      <td>CC110045</td>\n",
       "      <td>24</td>\n",
       "      <td>FEMALE</td>\n",
       "      <td>22655</td>\n",
       "      <td>97481</td>\n",
       "      <td>49497</td>\n",
       "    </tr>\n",
       "    <tr>\n",
       "      <th>3</th>\n",
       "      <td>CC110056</td>\n",
       "      <td>22</td>\n",
       "      <td>FEMALE</td>\n",
       "      <td>20673</td>\n",
       "      <td>86147</td>\n",
       "      <td>49316</td>\n",
       "    </tr>\n",
       "    <tr>\n",
       "      <th>4</th>\n",
       "      <td>CC110062</td>\n",
       "      <td>20</td>\n",
       "      <td>MALE</td>\n",
       "      <td>20466</td>\n",
       "      <td>110771</td>\n",
       "      <td>60077</td>\n",
       "    </tr>\n",
       "  </tbody>\n",
       "</table>\n",
       "</div>"
      ],
      "text/plain": [
       "    subject  age  gender    CSF      GM     WM\n",
       "0  CC110033   24    MALE  32255   88877  53097\n",
       "1  CC110037   18    MALE  23522   93552  53059\n",
       "2  CC110045   24  FEMALE  22655   97481  49497\n",
       "3  CC110056   22  FEMALE  20673   86147  49316\n",
       "4  CC110062   20    MALE  20466  110771  60077"
      ]
     },
     "execution_count": 25,
     "metadata": {},
     "output_type": "execute_result"
    }
   ],
   "source": [
    "## Reading in data from CSV file\n",
    "data_table = pd.read_csv(Path(path, 'data', 'brain_data.csv'))\n",
    "data_table.head()"
   ]
  },
  {
   "cell_type": "code",
   "execution_count": 30,
   "metadata": {},
   "outputs": [
    {
     "name": "stdout",
     "output_type": "stream",
     "text": [
      "X: [[ 88877  53097  32255]\n",
      " [ 93552  53059  23522]\n",
      " [ 97481  49497  22655]\n",
      " [ 86147  49316  20673]\n",
      " [110771  60077  20466]]\n",
      "Y: [[24 'MALE']\n",
      " [18 'MALE']\n",
      " [24 'FEMALE']\n",
      " [22 'FEMALE']\n",
      " [20 'MALE']]\n"
     ]
    }
   ],
   "source": [
    "# Extracting X - a 2D matrix of features (Gray matter, white matter, & CSF pixels)\n",
    "X = data_table[['GM', 'WM', 'CSF']].values\n",
    "\n",
    "# Extracting Y - a 1D array of labels (age)\n",
    "y = data_table[['age', 'gender']].values\n",
    "\n",
    "# Confirming shape of X and Y match\n",
    "#print(f\"X: {X.shape}{nl}Y: {y.shape}\")\n",
    "print(f\"X: {X[:5]}{nl}Y: {y[:5]}\")"
   ]
  },
  {
   "cell_type": "code",
   "execution_count": 6,
   "metadata": {},
   "outputs": [
    {
     "data": {
      "image/png": "[encoded data removed]",
      "text/plain": [
       "<Figure size 640x480 with 1 Axes>"
      ]
     },
     "metadata": {},
     "output_type": "display_data"
    }
   ],
   "source": [
    "# Looking at age distribution to find the best way to binarize the age variable\n",
    "plt.hist(y[:,0], bins=8)\n",
    "plt.xlabel('Age')\n",
    "plt.ylabel('Frequency')\n",
    "plt.title('Distribution of Age')\n",
    "plt.show()"
   ]
  },
  {
   "cell_type": "code",
   "execution_count": 10,
   "metadata": {},
   "outputs": [
    {
     "name": "stdout",
     "output_type": "stream",
     "text": [
      "Genders in y_encoded match y is: True\n"
     ]
    }
   ],
   "source": [
    "# Age Binning \n",
    "    # 0 = 15-24, 1 = 25-34, 2 = 35-44, 3 = 45-54, 4 = 55-64, 5 = 65-74, 6 = 75-84, 7 = 85+\n",
    "bins = np.array([15, 25, 35, 45, 55, 65, 75, 85])\n",
    "\n",
    "# Bin the age along the first axis of y\n",
    "y_binned = np.digitize(y[:,0], bins)\n",
    "\n",
    "# Use the LabelEncoder to fit and transform the binned ages\n",
    "le = LabelEncoder()\n",
    "y_encoded = le.fit_transform(y_binned)\n",
    "\n",
    "# Recombining the binned age array with participant genders\n",
    "y_encoded = np.hstack((y_encoded.reshape(-1,1), y[:,1].reshape(-1,1)))\n",
    "\n",
    "# Check to make sure y_encoded matches y\n",
    "equal = np.array_equal(y[:, 1], y_encoded[:, 1])\n",
    "\n",
    "print(f'Genders in y_encoded match y is: {equal}')"
   ]
  },
  {
   "cell_type": "markdown",
   "metadata": {},
   "source": [
    "## Machine Learning Classification\n",
    "Uses a logistic regression classifier to find relationship between age and GM, WM, & CSF"
   ]
  },
  {
   "cell_type": "code",
   "execution_count": 17,
   "metadata": {},
   "outputs": [
    {
     "data": {
      "text/plain": [
       "((521, 3), (131, 3), (521, 2), (131, 2))"
      ]
     },
     "execution_count": 17,
     "metadata": {},
     "output_type": "execute_result"
    }
   ],
   "source": [
    "## Make Train and Test Splits\n",
    "X_train, X_test, y_train, y_test = train_test_split(X, \n",
    "                                                    y_encoded,\n",
    "                                                    stratify=y_encoded,\n",
    "                                                    test_size=0.2, \n",
    "                                                    random_state=42,\n",
    "                                                    shuffle=True\n",
    "                                                    )\n",
    "X_train.shape, X_test.shape, y_train.shape, y_test.shape"
   ]
  },
  {
   "cell_type": "code",
   "execution_count": null,
   "metadata": {},
   "outputs": [],
   "source": [
    "## Visualizing Stratification of ages & genders\n"
   ]
  },
  {
   "cell_type": "code",
   "execution_count": null,
   "metadata": {},
   "outputs": [],
   "source": [
    "scaler = StandardScaler() # Should be PCA instead?  https://scikit-learn.org/stable/modules/generated/sklearn.decomposition.PCA.html#sklearn.decomposition.PCA\n",
    "vectorizer = Vectorizer()\n",
    "\n",
    "log_reg = LogisticRegression(max_iter=10000, tol=0.1) # Hyperparameters to be tuned\n",
    "\n",
    "\n",
    "cv = StratifiedKFold(n_splits=10, shuffle=True, random_state=42)\n",
    "\n",
    "\n",
    "\n",
    "clf = Pipeline([('Vectorizer', vectorizer),\n",
    "                ('Scaler', scaler), # Should be PCA instead?\n",
    "                ('logistic', log_reg)                                 \n",
    "                ])\n",
    "\n",
    "# Cross validating\n",
    "cv_cv = cross_validate(clf, X_train, y_train, \n",
    "                        cv=cv,\n",
    "                        scoring=scoring,\n",
    "                        return_train_score=True, # Determines if Training scores are included in .cv_results_\n",
    "                        n_jobs=5,\n",
    "                        error_score='raise' # For debugging purposes\n",
    "                        )\n",
    "\n",
    "print('Training Classifier')\n",
    "clf = clf.fit(X_train, y_train)\n",
    "\n",
    "print('Predicting...')\n",
    "y_pred = clf.predict(X_test)\n",
    "\n",
    "print('Scoring...')        \n",
    "print(classification_report(y_test, y_pred))\n",
    "\n",
    "# Confusion Matrix Generation and Visualization within the loop -> saved to csv as \"[[TN, FN] [FP, TP]]\"\n",
    "cm = confusion_matrix(y_test, y_pred, labels=clf.classes_)\n",
    "cmd = ConfusionMatrixDisplay(confusion_matrix=cm, display_labels=clf.classes_)\n",
    "cmd.plot()\n",
    "plt.title(subject + '_' + str(contr).replace('/', '_') + '_' + c_name)\n",
    "plt.show()\n",
    "\n",
    "# Saving CV results to a  DataFrame \n",
    "results = pd.DataFrame(cv_cv)\n",
    "\n"
   ]
  },
  {
   "cell_type": "markdown",
   "metadata": {},
   "source": [
    "### ML Reference Code"
   ]
  },
  {
   "cell_type": "code",
   "execution_count": null,
   "metadata": {},
   "outputs": [],
   "source": [
    "%%time\n",
    "%xmode Verbose\n",
    "\n",
    "scaler = StandardScaler()\n",
    "vectorizer = Vectorizer()\n",
    "\n",
    "# Making the crossvalidation to be used in the RandomizedSearch\n",
    "cv = StratifiedKFold(n_splits=10, shuffle=True, random_state=42)\n",
    "\n",
    "for subject in subjects:\n",
    "    print('\\n-------\\n\\033[;40m' + subject + '\\033[m')\n",
    "    \n",
    "    # Clearing out the saved data for each participant\n",
    "    data_table = pd.DataFrame()\n",
    "    data_table_list = []\n",
    "    \n",
    "    for contr, conds in contrasts.items():\n",
    "        print('-------\\n\\033[94;40m' + contr + '\\033[m')\n",
    "        subj_epochs = epochs[subject][conds]\n",
    "        \n",
    "        # Create a list of labels from event codes mapped to event_id\n",
    "        event_id_rev = dict(zip(subj_epochs.event_id.values(), subj_epochs.event_id.keys()))\n",
    "        labels_all = [event_id_rev[e] for e in subj_epochs.events[:, 2]]\n",
    "        labels_all = pd.DataFrame(labels_all)[0].str.split('/', expand=True).rename(columns={0:'Colour', 1:'Orientation', 2:'Type', 3:'Status', 4:'Location'} )\n",
    "        label_map = {'Target':1, 'Standard':0}\n",
    "        labels_all['labels'] = labels_all['Status'].map(label_map)\n",
    "        labels = labels_all['labels']\n",
    "        \n",
    "        # Extract data from subj_epochs and vectorize \n",
    "        D = subj_epochs.get_data()\n",
    "        \n",
    "        # Create train-test split\n",
    "        X_train, X_test, y_train, y_test = train_test_split(D, \n",
    "                                                            labels,\n",
    "                                                            stratify=labels,\n",
    "                                                            test_size=cl_p['test_size'], \n",
    "                                                            random_state=42,\n",
    "                                                            shuffle=True\n",
    "                                                           )\n",
    "\n",
    "        # Classifier Loop\n",
    "        for c_name, c in classifiers.items():\n",
    "            print('-------\\nRunning classifier: \\033[1;91;40m' + c_name + '\\033[m')\n",
    "\n",
    "            # Making the Pipeline\n",
    "            clf = Pipeline([('Vectorizer', vectorizer),\n",
    "                             ('Scaler', scaler),\n",
    "                             (c_name, c)                                 \n",
    "                             ])\n",
    "\n",
    "            # Cross validating\n",
    "            cv_cv = cross_validate(clf, X_train, y_train, \n",
    "                                   cv=cv,\n",
    "                                   scoring=scoring,\n",
    "                                   return_train_score=True, # Determines if Training scores are included in .cv_results_\n",
    "                                   n_jobs=5,\n",
    "                                   error_score='raise' # For debugging purposes\n",
    "                                   )\n",
    "\n",
    "            print('Training Classifier')\n",
    "            clf = clf.fit(X_train, y_train)\n",
    "\n",
    "            print('Predicting...')\n",
    "            y_pred = clf.predict(X_test)\n",
    "\n",
    "            print('Scoring...')        \n",
    "            print(classification_report(y_test, y_pred))\n",
    "\n",
    "            # Confusion Matrix Generation and Visualization within the loop -> saved to csv as \"[[TN, FN] [FP, TP]]\"\n",
    "            cm = confusion_matrix(y_test, y_pred, labels=clf.classes_)\n",
    "            cmd = ConfusionMatrixDisplay(confusion_matrix=cm, display_labels=clf.classes_)\n",
    "            cmd.plot()\n",
    "            plt.title(subject + '_' + str(contr).replace('/', '_') + '_' + c_name)\n",
    "            plt.show()\n",
    "\n",
    "            # Saving CV results to a DataFrame \n",
    "            results = pd.DataFrame(cv_cv)\n",
    "\n",
    "            data_table_list.append(pd.DataFrame({'participant_id': subject,\n",
    "                                              'Condition': contr,\n",
    "                                              'Classifier': c_name,\n",
    "\n",
    "                                              # Confusion_matrix saved in format: [[TN, FN] [FP, TP]]\n",
    "                                              'Confusion_Matrix': str(cm),                                                 \n",
    "\n",
    "                                              'CV_Train_Bal_Accuracy': results['train_Bal_Acc'].round(3) * 100,\n",
    "                                              'CV_Test_Bal_Accuracy': results['test_Bal_Acc'].round(3) * 100,\n",
    "                                              'Test_Bal_Accuracy': round(balanced_accuracy_score(y_test, y_pred), 3) * 100,\n",
    "\n",
    "                                              'CV_Train_Accuracy': results['train_Acc'].round(3) * 100,\n",
    "                                              'CV_Test_Accuracy': results['test_Acc'].round(3) * 100,\n",
    "                                              'Test_Accuracy': round(accuracy_score(y_test, y_pred), 3) * 100, \n",
    "\n",
    "                                              'CV_Train_Precision': results['train_Prec'].round(3) * 100,\n",
    "                                              'CV_Test_Precision': results['test_Prec'].round(3) * 100,                                                \n",
    "                                              'Test_Precision': round(precision_score(y_test, y_pred, zero_division=0), 3) * 100,    \n",
    "\n",
    "                                              'CV_Train_Matthews_coef': results['train_Matthews_Coef'].round(3),\n",
    "                                              'CV_Test_Matthews_coef': results['test_Matthews_Coef'].round(3),\n",
    "                                              'Matthews_Coef': round(matthews_corrcoef(y_test, y_pred), 3),\n",
    "\n",
    "                                              'CV_Train_Recall': results['train_Recall'].round(3) * 100,\n",
    "                                              'CV_Test_Recall': results['test_Recall'].round(3) * 100,\n",
    "                                              'Test_recall': round(recall_score(y_test, y_pred), 3) * 100,\n",
    "\n",
    "                                              'CV_Train_Fbeta_0.5': results['train_Fbeta_0.5'].round(3),\n",
    "                                              'CV_Train_Fbeta_0.5': results['train_Fbeta_0.5'].round(3),\n",
    "                                              'Fbeta_0.5': round(fbeta_score(y_test, y_pred, beta = 0.5, zero_division=0), 3),\n",
    "\n",
    "                                              'CV_Train_Fbeta_1.5': results['train_Fbeta_1.5'].round(3),\n",
    "                                              'CV_Test_Fbeta_1.5': results['test_Fbeta_1.5'].round(3),\n",
    "                                              'Fbeta_1.5': round(fbeta_score(y_test, y_pred, beta = 1.5, zero_division=0), 3),\n",
    "\n",
    "                                              'CV_Train_F1': results['train_F1_score'].round(3),\n",
    "                                              'CV_Test_F1': results['test_F1_score'].round(3),\n",
    "                                              'F1_score': round(f1_score(y_test, y_pred, zero_division=0), 3),\n",
    "\n",
    "                                              'CV_Train_ROC_AUC': results['train_ROC'].round(3),\n",
    "                                              'CV_Test_ROC_AUC': results['test_ROC'].round(3),                                             \n",
    "                                              'Test_ROC_AUC': round(roc_auc_score(y_test, y_pred), 3),\n",
    "\n",
    "                                              'Mean Fit Time': results['fit_time'].round(3),\n",
    "                                              'Mean Score Time': results['score_time'].round(3)\n",
    "                                             }, index=[0]\n",
    "                                            )\n",
    "                               )\n",
    "\n",
    "    # Saving Data to CSV Per Participant\n",
    "    data_table = pd.concat(data_table_list)\n",
    "    data_table.to_csv(f'{str(subject)} new_Data.csv')"
   ]
  }
 ],
 "metadata": {
  "kernelspec": {
   "display_name": "psychopy",
   "language": "python",
   "name": "python3"
  },
  "language_info": {
   "codemirror_mode": {
    "name": "ipython",
    "version": 3
   },
   "file_extension": ".py",
   "mimetype": "text/x-python",
   "name": "python",
   "nbconvert_exporter": "python",
   "pygments_lexer": "ipython3",
   "version": "3.8.18"
  }
 },
 "nbformat": 4,
 "nbformat_minor": 2
}
