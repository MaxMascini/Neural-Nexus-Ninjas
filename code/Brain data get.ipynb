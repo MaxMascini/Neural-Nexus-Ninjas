{
 "cells": [
  {
   "cell_type": "markdown",
   "metadata": {},
   "source": [
    "# Brain Data Get\n",
    "- Obtain number of GW, WM, & CSF Pixels from segmented images"
   ]
  },
  {
   "cell_type": "code",
   "execution_count": 1,
   "metadata": {},
   "outputs": [],
   "source": [
    "# Pathing Libraries\n",
    "from pathlib import Path\n",
    "import os\n",
    "import os.path as op\n",
    "import glob\n",
    "\n",
    "# Image Libraries\n",
    "import nibabel as nib\n",
    "import numpy as np\n",
    "import pandas as pd\n",
    "import scipy.ndimage as ndi\n",
    "from scipy import stats\n",
    "import matplotlib.pyplot as plt\n",
    "import seaborn as sns\n"
   ]
  },
  {
   "cell_type": "code",
   "execution_count": null,
   "metadata": {},
   "outputs": [],
   "source": [
    "## Pathing\n",
    "path = '../'\n",
    "\n",
    "images_path = Path(path, 'data', 'images')\n",
    "masks_path = Path(path, 'data', 'masks')\n",
    "segs_path = Path(path, 'data', 'segs_refs')\n",
    "metadata_path = Path(path, 'data', 'meta')\n",
    "\n",
    "## Functions\n",
    "def z_normalize(img_data, mask_data):\n",
    "    # Ensure the mask is binary\n",
    "    mask_data = np.where(mask_data > 0, 1, 0)\n",
    "\n",
    "    # Apply the mask to the image\n",
    "    masked_image_data = img_data * mask_data\n",
    "\n",
    "    # Calculate the z-score of the masked image\n",
    "    masked_image_data[mask_data==0] = stats.zscore(masked_image_data[mask_data==0])\n",
    "\n",
    "    # Handle NaN values that might result from zscoring zero-valued elements\n",
    "    masked_image_data = np.nan_to_num(masked_image_data)\n",
    "\n",
    "    return masked_image_data\n"
   ]
  },
  {
   "cell_type": "code",
   "execution_count": null,
   "metadata": {},
   "outputs": [],
   "source": [
    "meta_data = pd.read_csv(Path(metadata_path, 'meta_data_all.csv'))\n",
    "\n",
    "raw_images = []\n",
    "\n",
    "for subj, age, gender in zip(meta_data['subject_id'], meta_data['age'], meta_data['gender_text']): # ''gender_code'; 1= male, 2= female\n",
    "    print(subj, age, gender)\n",
    "    if age == 18:\n",
    "        break\n",
    "\n",
    "    # Loading in Raw Image Data\n",
    "    image = nib.load(op.join(images_path, 'sub-' + subj + '_T1w_unbiased' + '.nii.gz'))\n",
    "    img_data = image.get_fdata()\n",
    "\n",
    "    # Loading in Segmentation Data\n",
    "    seg = nib.load(op.join(segs_path, 'sub-' + subj + '_T1w_seg.nii.gz'))\n",
    "    seg_data = seg.get_fdata()\n",
    "\n",
    "    # Loading in Mask Data\n",
    "    mask = nib.load(op.join(masks_path, 'sub-' + subj + '_T1w_brain_mask' + '.nii.gz'))\n",
    "    mask_data = mask.get_fdata()\n",
    "\n",
    "    # Z-score Normalization\n",
    "    z_img = z_normalize(img_data, mask_data)\n",
    "#    raw_images.append(z_img)\n",
    "    z_seg = z_normalize(seg_data, mask_data)\n",
    "\n",
    "\n",
    "# Combines to a 4D numpy array: (652, 98, 116, 94) - subject, x, y, z\n",
    "# combined_scans = np.stack(raw_images, axis=0)\n",
    "\n"
   ]
  }
 ],
 "metadata": {
  "kernelspec": {
   "display_name": "psychopy",
   "language": "python",
   "name": "python3"
  },
  "language_info": {
   "codemirror_mode": {
    "name": "ipython",
    "version": 3
   },
   "file_extension": ".py",
   "mimetype": "text/x-python",
   "name": "python",
   "nbconvert_exporter": "python",
   "pygments_lexer": "ipython3",
   "version": "3.8.18"
  }
 },
 "nbformat": 4,
 "nbformat_minor": 2
}
