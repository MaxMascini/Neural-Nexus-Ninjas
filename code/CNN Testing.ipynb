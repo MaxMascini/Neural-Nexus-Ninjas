{
 "cells": [
  {
   "cell_type": "markdown",
   "metadata": {},
   "source": [
    "## Testing CNN implentation with Keras"
   ]
  },
  {
   "cell_type": "code",
   "execution_count": 1,
   "metadata": {},
   "outputs": [],
   "source": [
    "# Pathing Libraries\n",
    "from pathlib import Path\n",
    "import os\n",
    "import os.path as op\n",
    "import glob\n",
    "\n",
    "# Image Libraries\n",
    "import nibabel as nib\n",
    "import numpy as np\n",
    "import pandas as pd\n",
    "import scipy.ndimage as ndi\n",
    "from scipy import stats\n",
    "import matplotlib.pyplot as plt\n",
    "import seaborn as sns\n",
    "\n",
    "from tensorflow import keras\n"
   ]
  },
  {
   "cell_type": "code",
   "execution_count": 2,
   "metadata": {},
   "outputs": [],
   "source": [
    "## Pathing\n",
    "path = '../'\n",
    "\n",
    "images_path = Path(path, 'data', 'images')\n",
    "masks_path = Path(path, 'data', 'masks')\n",
    "segs_path = Path(path, 'data', 'segs_refs')\n",
    "metadata_path = Path(path, 'data', 'meta')\n",
    "\n",
    "## Functions\n",
    "def z_normalize(img_data, mask_data):\n",
    "    # Ensure the mask is binary\n",
    "    mask_data = np.where(mask_data > 0, 1, 0)\n",
    "\n",
    "    # Apply the mask to the image\n",
    "    masked_image_data = img_data * mask_data\n",
    "\n",
    "    # Calculate the z-score of the masked image\n",
    "    masked_image_data[mask_data==0] = stats.zscore(masked_image_data[mask_data==0])\n",
    "\n",
    "    # Handle NaN values that might result from zscoring zero-valued elements\n",
    "    masked_image_data = np.nan_to_num(masked_image_data)\n",
    "\n",
    "    return masked_image_data\n"
   ]
  },
  {
   "cell_type": "code",
   "execution_count": 4,
   "metadata": {},
   "outputs": [
    {
     "name": "stdout",
     "output_type": "stream",
     "text": [
      "CC110033 24 MALE\n",
      "CC110037 18 MALE\n",
      "CC110045 24 FEMALE\n",
      "CC110056 22 FEMALE\n",
      "CC110062 20 MALE\n",
      "CC110069 28 FEMALE\n",
      "CC110087 28 FEMALE\n",
      "CC110098 23 MALE\n",
      "CC110101 23 MALE\n",
      "CC110126 22 FEMALE\n",
      "CC110174 25 FEMALE\n",
      "CC110182 18 FEMALE\n",
      "CC110187 25 FEMALE\n",
      "CC110319 28 FEMALE\n",
      "CC110411 25 MALE\n",
      "CC110606 20 MALE\n",
      "CC112141 29 MALE\n",
      "CC120008 26 MALE\n",
      "CC120049 28 MALE\n",
      "CC120061 19 MALE\n",
      "CC120065 25 FEMALE\n",
      "CC120120 25 MALE\n",
      "CC120123 19 FEMALE\n",
      "CC120166 28 MALE\n",
      "CC120182 26 MALE\n"
     ]
    },
    {
     "ename": "KeyboardInterrupt",
     "evalue": "",
     "output_type": "error",
     "traceback": [
      "\u001b[1;31m---------------------------------------------------------------------------\u001b[0m",
      "\u001b[1;31mKeyboardInterrupt\u001b[0m                         Traceback (most recent call last)",
      "Cell \u001b[1;32mIn[4], line 19\u001b[0m\n\u001b[0;32m     16\u001b[0m mask_data \u001b[38;5;241m=\u001b[39m mask\u001b[38;5;241m.\u001b[39mget_fdata()\n\u001b[0;32m     18\u001b[0m \u001b[38;5;66;03m# Z-score Normalization\u001b[39;00m\n\u001b[1;32m---> 19\u001b[0m z_img \u001b[38;5;241m=\u001b[39m \u001b[43mz_normalize\u001b[49m\u001b[43m(\u001b[49m\u001b[43mimg_data\u001b[49m\u001b[43m,\u001b[49m\u001b[43m \u001b[49m\u001b[43mmask_data\u001b[49m\u001b[43m)\u001b[49m\n\u001b[0;32m     20\u001b[0m plt\u001b[38;5;241m.\u001b[39mimshow(z_img[:,:,\u001b[38;5;241m40\u001b[39m], cmap\u001b[38;5;241m=\u001b[39m\u001b[38;5;124m'\u001b[39m\u001b[38;5;124mgray\u001b[39m\u001b[38;5;124m'\u001b[39m)\n\u001b[0;32m     21\u001b[0m z_seg \u001b[38;5;241m=\u001b[39m z_normalize(seg_data, mask_data)\n",
      "Cell \u001b[1;32mIn[2], line 12\u001b[0m, in \u001b[0;36mz_normalize\u001b[1;34m(img_data, mask_data)\u001b[0m\n\u001b[0;32m     10\u001b[0m \u001b[38;5;28;01mdef\u001b[39;00m \u001b[38;5;21mz_normalize\u001b[39m(img_data, mask_data):\n\u001b[0;32m     11\u001b[0m     \u001b[38;5;66;03m# Ensure the mask is binary\u001b[39;00m\n\u001b[1;32m---> 12\u001b[0m     mask_data \u001b[38;5;241m=\u001b[39m \u001b[43mnp\u001b[49m\u001b[38;5;241;43m.\u001b[39;49m\u001b[43mwhere\u001b[49m\u001b[43m(\u001b[49m\u001b[43mmask_data\u001b[49m\u001b[43m \u001b[49m\u001b[38;5;241;43m>\u001b[39;49m\u001b[43m \u001b[49m\u001b[38;5;241;43m0\u001b[39;49m\u001b[43m,\u001b[49m\u001b[43m \u001b[49m\u001b[38;5;241;43m1\u001b[39;49m\u001b[43m,\u001b[49m\u001b[43m \u001b[49m\u001b[38;5;241;43m0\u001b[39;49m\u001b[43m)\u001b[49m\n\u001b[0;32m     14\u001b[0m     \u001b[38;5;66;03m# Apply the mask to the image\u001b[39;00m\n\u001b[0;32m     15\u001b[0m     masked_image_data \u001b[38;5;241m=\u001b[39m img_data \u001b[38;5;241m*\u001b[39m mask_data\n",
      "File \u001b[1;32m<__array_function__ internals>:200\u001b[0m, in \u001b[0;36mwhere\u001b[1;34m(*args, **kwargs)\u001b[0m\n",
      "\u001b[1;31mKeyboardInterrupt\u001b[0m: "
     ]
    },
    {
     "data": {
      "image/png": "[encoded data removed]",
      "text/plain": [
       "<Figure size 640x480 with 1 Axes>"
      ]
     },
     "metadata": {},
     "output_type": "display_data"
    }
   ],
   "source": [
    "meta_data = pd.read_csv(Path(metadata_path, 'meta_data_all.csv'))\n",
    "\n",
    "for subj, age, gender in zip(meta_data['subject_id'], meta_data['age'], meta_data['gender_text']): # ''gender_code'; 1= male, 2= female\n",
    "    print(subj, age, gender)\n",
    "    \n",
    "    # Loading in Raw Image Data\n",
    "    image = nib.load(op.join(images_path, 'sub-' + subj + '_T1w_unbiased' + '.nii.gz'))\n",
    "    img_data = image.get_fdata()\n",
    "\n",
    "    # Loading in Segmentation Data\n",
    "    seg = nib.load(op.join(segs_path, 'sub-' + subj + '_T1w_seg.nii.gz'))\n",
    "    seg_data = seg.get_fdata()\n",
    "\n",
    "    # Loading in Mask Data\n",
    "    mask = nib.load(op.join(masks_path, 'sub-' + subj + '_T1w_brain_mask' + '.nii.gz'))\n",
    "    mask_data = mask.get_fdata()\n",
    "\n",
    "    # Z-score Normalization\n",
    "    z_img = z_normalize(img_data, mask_data)\n",
    "    z_seg = z_normalize(seg_data, mask_data)\n"
   ]
  },
  {
   "cell_type": "markdown",
   "metadata": {},
   "source": [
    "### Keras Implementation"
   ]
  },
  {
   "cell_type": "code",
   "execution_count": null,
   "metadata": {},
   "outputs": [],
   "source": []
  }
 ],
 "metadata": {
  "kernelspec": {
   "display_name": "psychopy",
   "language": "python",
   "name": "python3"
  },
  "language_info": {
   "codemirror_mode": {
    "name": "ipython",
    "version": 3
   },
   "file_extension": ".py",
   "mimetype": "text/x-python",
   "name": "python",
   "nbconvert_exporter": "python",
   "pygments_lexer": "ipython3",
   "version": "3.8.18"
  }
 },
 "nbformat": 4,
 "nbformat_minor": 2
}
